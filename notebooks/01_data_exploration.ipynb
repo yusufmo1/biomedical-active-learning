{
 "cells": [
  {
   "cell_type": "markdown",
   "source": "# Data Exploration and Analysis\n\nThis notebook provides an overview of the two datasets used in our biomedical active learning study:\n1. **Blood-Brain Barrier Penetration (BBBP)** - Molecular classification dataset\n2. **Breast Cancer Wisconsin** - Clinical classification dataset\n\n## Overview\n\nWe will explore:\n- Dataset loading and inspection\n- Class distributions\n- Feature importance analysis\n- Correlation analysis with target variables",
   "metadata": {}
  },
  {
   "cell_type": "code",
   "source": "import sys\nimport os\nsys.path.append(os.path.join(os.path.dirname(os.getcwd()), 'src'))\n\nimport numpy as np\nimport pandas as pd\nimport matplotlib.pyplot as plt\nimport seaborn as sns\nfrom sklearn.ensemble import RandomForestClassifier\n\nfrom data.loader import DatasetLoader\n\n# Set up plotting style\nplt.style.use('default')\nsns.set_palette(\"husl\")\n\nprint(\"Libraries imported successfully!\")",
   "metadata": {},
   "outputs": []
  },
  {
   "cell_type": "markdown",
   "source": "## 1. Dataset Loading and Inspection",
   "metadata": {}
  },
  {
   "cell_type": "code",
   "source": "# Function to load the dataset\ndef load_dataset(file_path):\n    \"\"\"\n    Load dataset from either xlsx or csv file into a pandas DataFrame\n    Parameters:\n    file_path (str): Path to the input file\n    Returns:\n    pd.DataFrame: Loaded dataset\n    \"\"\"\n    if file_path.endswith('.xlsx'):\n        return pd.read_excel(file_path)\n    elif file_path.endswith('.csv'):\n        return pd.read_csv(file_path)\n\n# Function to inspect the generated DataFrame\ndef inspect_dataframe(df, dataset_name):\n    \"\"\"\n    Inspect DataFrame keys, print head of each column and check for NaN values\n    Parameters:\n    df (pd.DataFrame): Input DataFrame to inspect\n    dataset_name (str): Name of the dataset for clear reporting\n    \"\"\"\n    print(f\"\\nInspecting {dataset_name} dataset:\")\n    print(\"-\" * 50)\n    print(\"DataFrame columns:\", df.columns.tolist())\n    print(f\"DataFrame shape: {df.shape}\")\n    print(\"\\nColumn summaries:\")\n    for col in df.columns:\n        print(f\"\\n{col}:\")\n        print(\"First 5 values:\", df[col].head().tolist())\n        nan_count = df[col].isna().sum()\n        print(f\"NaN count: {nan_count}\")\n        if df[col].dtype in ['int64', 'float64']:\n            print(f\"Data type: {df[col].dtype}\")\n            print(f\"Min: {df[col].min():.3f}, Max: {df[col].max():.3f}\")\n        else:\n            print(f\"Data type: {df[col].dtype}\")\n            print(f\"Unique values: {df[col].nunique()}\")\n\nprint(\"Helper functions defined!\")",
   "metadata": {},
   "outputs": []
  },
  {
   "cell_type": "code",
   "source": "# Load the Blood-Brain Barrier Penetration dataset\nbbb_df = load_dataset('../data/raw/BBBP.xlsx')\ninspect_dataframe(bbb_df, 'Blood-Brain Barrier Penetration')",
   "metadata": {},
   "outputs": []
  },
  {
   "cell_type": "code",
   "source": "# Load the Breast Cancer dataset\nbc_df = load_dataset('../data/raw/breast-cancer.csv')\ninspect_dataframe(bc_df, 'Breast Cancer')",
   "metadata": {},
   "outputs": []
  },
  {
   "cell_type": "markdown",
   "source": "## 2. Basic Data Preprocessing\n\nLet's prepare the target variables for analysis:",
   "metadata": {}
  },
  {
   "cell_type": "code",
   "source": "# Prepare BBB dataset - map class labels to binary values\nprint(\"BBB Dataset class distribution:\")\nprint(bbb_df['Class'].value_counts())\n\n# Map class labels to binary values\nclass_mapping = {'BBB+': 1, 'BBB-': 0}\nbbb_df['target'] = bbb_df['Class'].map(class_mapping)\nprint(\"\\nAfter mapping:\")\nprint(bbb_df['target'].value_counts())\n\n# Prepare Breast Cancer dataset - map diagnosis to binary values\nprint(\"\\n\" + \"=\"*50)\nprint(\"Breast Cancer Dataset class distribution:\")\nprint(bc_df['diagnosis'].value_counts())\n\n# Map class labels to binary values  \nbc_df['target'] = bc_df['diagnosis'].map({'M': 1, 'B': 0})\nprint(\"\\nAfter mapping:\")\nprint(bc_df['target'].value_counts())",
   "metadata": {},
   "outputs": []
  },
  {
   "cell_type": "markdown",
   "source": "## 3. Class Distribution Visualization",
   "metadata": {}
  },
  {
   "cell_type": "code",
   "source": "def plot_class_distributions_side_by_side(y1, y2, dataset_names=[\"Dataset 1\", \"Dataset 2\"]):\n    \"\"\"\n    Plots the class distributions for two datasets side by side (1x2 plot) using matplotlib.\n    \n    Parameters:\n        y1 (array-like): Target vector for the first dataset.\n        y2 (array-like): Target vector for the second dataset.\n        dataset_names (list of str): Names for the datasets (length should be 2).\n    \"\"\"\n    # Define font sizes for various text elements (except main title)\n    subplot_title_fontsize = 15\n    label_fontsize = 15\n    tick_fontsize = 15\n\n    # Compute class frequencies for the first dataset.\n    unique1, counts1 = np.unique(y1, return_counts=True)\n    positions1 = np.arange(len(unique1))\n    \n    # Compute class frequencies for the second dataset.\n    unique2, counts2 = np.unique(y2, return_counts=True)\n    positions2 = np.arange(len(unique2))\n    \n    # Create a figure with 1 row and 2 columns.\n    fig, axes = plt.subplots(1, 2, figsize=(9, 5.5))\n    \n    # Plot for the first dataset (e.g., Breast Cancer)\n    axes[0].bar(positions1, counts1, color='skyblue', edgecolor='black', width=0.7)\n    axes[0].set_title(dataset_names[0], fontsize=subplot_title_fontsize)\n    axes[0].set_xlabel('Class', fontsize=label_fontsize)\n    axes[0].set_ylabel('Count', fontsize=label_fontsize)\n    axes[0].set_xticks(positions1)\n    axes[0].set_xticklabels(unique1, fontsize=tick_fontsize)\n    axes[0].tick_params(axis='y', labelsize=tick_fontsize)\n    \n    # Plot for the second dataset (e.g., Blood Brain Barrier Permeability)\n    axes[1].bar(positions2, counts2, color='salmon', edgecolor='black', width=0.7)\n    axes[1].set_title(dataset_names[1], fontsize=subplot_title_fontsize)\n    axes[1].set_xlabel('Class', fontsize=label_fontsize)\n    axes[1].set_ylabel('Count', fontsize=label_fontsize)\n    axes[1].set_xticks(positions2)\n    axes[1].set_xticklabels(unique2, fontsize=tick_fontsize)\n    axes[1].tick_params(axis='y', labelsize=tick_fontsize)\n    \n    fig.suptitle(\"Class Distribution of Datasets\", fontsize=16, y=0.98)\n    \n    # Adjust layout with increased space between subplots\n    plt.tight_layout(rect=[0, 0, 1, 0.98])\n    fig.subplots_adjust(wspace=0.3)  # Increased from 0.2 to 0.3\n    plt.show()\n\nprint(\"Plotting class distributions side by side...\")\nplot_class_distributions_side_by_side(\n    bc_df['target'], \n    bbb_df['target'], \n    dataset_names=[\"Breast Cancer\", \"Blood Brain Barrier Permeability\"]\n)",
   "metadata": {},
   "outputs": []
  },
  {
   "cell_type": "markdown",
   "source": "## 4. Basic Statistical Summary\n\nLet's examine the basic statistics for the numerical features in the Breast Cancer dataset:",
   "metadata": {}
  },
  {
   "cell_type": "code",
   "source": "# Get numerical features for Breast Cancer dataset\nbc_numerical = bc_df.select_dtypes(include=[np.number]).drop(columns=['target'])\n\nprint(\"Breast Cancer Dataset - Numerical Features Summary:\")\nprint(\"=\" * 60)\nprint(f\"Number of numerical features: {bc_numerical.shape[1]}\")\nprint(f\"Number of samples: {bc_numerical.shape[0]}\")\nprint(\"\\nBasic statistics:\")\nprint(bc_numerical.describe().round(3))\n\n# Check for missing values\nprint(f\"\\nMissing values per feature:\")\nmissing_counts = bc_numerical.isnull().sum()\nif missing_counts.sum() == 0:\n    print(\"No missing values found!\")\nelse:\n    print(missing_counts[missing_counts > 0])\n\n# Feature correlation with target\nprint(f\"\\nCorrelation with target variable (top 10):\")\ncorrelations = bc_df[bc_numerical.columns.tolist() + ['target']].corr()['target'].abs().sort_values(ascending=False)\nprint(correlations.head(11).round(3))  # Top 10 + target itself",
   "metadata": {},
   "outputs": []
  },
  {
   "cell_type": "markdown",
   "source": "## 5. Dataset Summary\n\n**Key Findings:**\n\n### Blood-Brain Barrier Penetration (BBBP) Dataset:\n- **Structure**: Molecular dataset with SMILES strings\n- **Target**: Binary classification (BBB+ vs BBB-)\n- **Features**: SMILES molecular representations\n- **Preprocessing needed**: Molecular featurization using RDKit and Mol2vec\n\n### Breast Cancer Wisconsin Dataset:\n- **Structure**: Clinical dataset with numerical features\n- **Target**: Binary classification (Malignant vs Benign)\n- **Features**: 30 numerical clinical measurements\n- **Preprocessing needed**: Standard scaling\n\nBoth datasets are well-suited for binary classification and active learning experiments. The BBB dataset requires specialized molecular featurization, while the Breast Cancer dataset can be used directly with standard preprocessing.\n\n**Next Steps:**\n1. Molecular featurization for BBB dataset\n2. Standard preprocessing for both datasets  \n3. Train/test splitting\n4. Feature scaling",
   "metadata": {}
  }
 ],
 "metadata": {
  "kernelspec": {
   "display_name": "Python 3",
   "language": "python",
   "name": "python3"
  },
  "language_info": {
   "codemirror_mode": {
    "name": "ipython",
    "version": 3
   },
   "file_extension": ".py",
   "mimetype": "text/x-python",
   "name": "python",
   "nbconvert_exporter": "python",
   "pygments_lexer": "ipython3",
   "version": "3.8.0"
  }
 },
 "nbformat": 4,
 "nbformat_minor": 4
}